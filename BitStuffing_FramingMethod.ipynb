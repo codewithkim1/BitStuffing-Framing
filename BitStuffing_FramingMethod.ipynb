{
  "cells": [
    {
      "cell_type": "code",
      "execution_count": 1,
      "metadata": {
        "id": "a4JC3fUsIpfw"
      },
      "outputs": [],
      "source": [
        "def decimalToBinary(n):\n",
        "    return bin(n).replace(\"0b\", \"\")"
      ]
    },
    {
      "cell_type": "code",
      "execution_count": 70,
      "metadata": {
        "id": "a8zOhL1lJNts"
      },
      "outputs": [],
      "source": [
        "def binaryToDecimal(n):\n",
        "    return int(n,2)"
      ]
    },
    {
      "cell_type": "code",
      "execution_count": 5,
      "metadata": {
        "id": "2R0_kc71KSb0"
      },
      "outputs": [],
      "source": [
        "def countFramingError(n):\n",
        "  binary=str(n)\n",
        "  flag='1111'\n",
        "  count=0\n",
        "  for i in range(len(binary)):\n",
        "    if binary[i]=='1':\n",
        "      count +=1\n",
        "    else:\n",
        "      count=0\n",
        "  if count==4:\n",
        "    return True\n",
        "  else:\n",
        "    return False\n"
      ]
    },
    {
      "cell_type": "code",
      "execution_count": 6,
      "metadata": {
        "id": "jed_8LLlVclu"
      },
      "outputs": [],
      "source": [
        "def convert(list):\n",
        "    s = [str(i) for i in list]\n",
        "    res = int(\"\".join(s))\n",
        "    return(res)"
      ]
    },
    {
      "cell_type": "code",
      "execution_count": 74,
      "metadata": {
        "id": "nSjnOr1RyPUK"
      },
      "outputs": [],
      "source": [
        "def convertStr(list):\n",
        "  s=[str(i) for i in list]\n",
        "  res=str(\"\".join(s))\n",
        "  return res"
      ]
    },
    {
      "cell_type": "code",
      "execution_count": 43,
      "metadata": {
        "id": "KPnrdPSfQpjv"
      },
      "outputs": [],
      "source": [
        "def solvingFramingError(Binarynum):\n",
        "  res = [(x) for x in str(Binarynum)]\n",
        "  ele='0'\n",
        "  ls = list(ele.join(res))\n",
        "  ls1=[int(x) for x in ls]\n",
        "  #To add 0 as a flag at the end of the list\n",
        "  ls1.append(0)\n",
        "  solved=convert(ls1)\n",
        "  return solved"
      ]
    },
    {
      "cell_type": "code",
      "execution_count": 44,
      "metadata": {
        "id": "jcoGplDAM8jU"
      },
      "outputs": [],
      "source": [
        "def GenerateFrames(num):\n",
        "  binary=int(decimalToBinary(num))\n",
        "  res=countFramingError(binary)\n",
        "  flag='1111'\n",
        "  if res is True:\n",
        "    #flag1 to ad 0 in at the leding bits\n",
        "    flag1='11110'\n",
        "    frame=int(flag1+str(solvingFramingError(binary))+flag)\n",
        "  else:\n",
        "    frame=int(flag+str(binary)+flag)\n",
        "  return frame"
      ]
    },
    {
      "cell_type": "code",
      "execution_count": 101,
      "metadata": {
        "id": "bkRf0exiOdlB"
      },
      "outputs": [],
      "source": [
        "def deFraming(frames):\n",
        "  res = [(x) for x in str(frames)]\n",
        "  n=len(res)\n",
        "  # To remove flags from both sides\n",
        "  res=res[4:n-4]\n",
        "  # To check whether whether the bit stuffing exists or not\n",
        "  res1=res[::2]\n",
        "  count=0\n",
        "  bitStuffing=False\n",
        "  for i in range(len(res1)):\n",
        "    if res1[i]=='0':\n",
        "      count +=1\n",
        "  if count==len(res1):\n",
        "    bitStuffing=True\n",
        "  #removing alternate bit stuffed(i.e., 0)\n",
        "  if bitStuffing ==True:\n",
        "    res=res[1::2]\n",
        "  else:\n",
        "    pass\n",
        "  binary=convertStr(res)\n",
        "  decimal=binaryToDecimal(binary)\n",
        "  return decimal"
      ]
    },
    {
      "cell_type": "code",
      "execution_count": 78,
      "metadata": {
        "id": "F3qMo6xCzmCm"
      },
      "outputs": [],
      "source": [
        "def senderSide():\n",
        "  num=int(input(\"Enter the decimal number:\"))\n",
        "  print(\"Binary Value:\",decimalToBinary(num))\n",
        "  binary1=decimalToBinary(num)\n",
        "  b=countFramingError(binary1)\n",
        "  if b is True:\n",
        "    print(\"Framing Error: YES\")\n",
        "  else:\n",
        "    print(\"Framing Error:NO\")\n",
        "  frame=GenerateFrames(num)\n",
        "  print(\"Binary Value after adding Flags:\",frame)"
      ]
    },
    {
      "cell_type": "code",
      "execution_count": 103,
      "metadata": {
        "id": "IA873G_NCQFe"
      },
      "outputs": [],
      "source": [
        "def receiverSide():\n",
        "  frame=int(input(\"Enter Received Frames:\"))\n",
        "  decimal =deFraming(frame)\n",
        "  print(\"The Received Decimal Value:\",decimal)"
      ]
    },
    {
      "cell_type": "code",
      "execution_count": 108,
      "metadata": {
        "colab": {
          "base_uri": "https://localhost:8080/"
        },
        "id": "vfO-AehLLOST",
        "outputId": "d1cd5b10-63d8-4004-f0f8-090038b7d279"
      },
      "outputs": [
        {
          "name": "stdout",
          "output_type": "stream",
          "text": [
            "\n",
            "*******************Framing Method*******************\n",
            "CHOOSE ONE OF THE FOLLOWING\n",
            "1.SENDER'S SIDE\n",
            "2.RECEIVER'S SIDE\n",
            "ENTER YOUR OPTION:1\n",
            "Enter the decimal number:89\n",
            "Binary Value: 1011001\n",
            "Framing Error:NO\n",
            "Binary Value after adding Flags: 111110110011111\n",
            "\n",
            "*******************Framing Method*******************\n",
            "CHOOSE ONE OF THE FOLLOWING\n",
            "1.SENDER'S SIDE\n",
            "2.RECEIVER'S SIDE\n",
            "ENTER YOUR OPTION:2\n",
            "Enter Received Frames:111110110011111\n",
            "The Received Decimal Value: 89\n"
          ]
        }
      ],
      "source": [
        "#main Function\n",
        "i=0\n",
        "while i<=1:\n",
        "  print(\"\\n*******************Framing Method*******************\")\n",
        "  print(\"CHOOSE ONE OF THE FOLLOWING\")\n",
        "  print(\"1.SENDER'S SIDE\")\n",
        "  print(\"2.RECEIVER'S SIDE\")\n",
        "  choice=int(input(\"ENTER YOUR OPTION:\"))\n",
        "  match choice:\n",
        "    case 1:\n",
        "      senderSide()\n",
        "    case 2:\n",
        "      receiverSide()\n",
        "    case _:\n",
        "      print(\"Invalid Input\")\n",
        "  i +=1"
      ]
    }
  ],
  "metadata": {
    "colab": {
      "authorship_tag": "ABX9TyMCP6kY1JymJojkJOOTOd8E",
      "include_colab_link": true,
      "provenance": []
    },
    "kernelspec": {
      "display_name": "Python 3",
      "name": "python3"
    },
    "language_info": {
      "name": "python"
    }
  },
  "nbformat": 4,
  "nbformat_minor": 0
}
